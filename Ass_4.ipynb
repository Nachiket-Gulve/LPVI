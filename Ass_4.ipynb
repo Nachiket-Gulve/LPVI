{
 "cells": [
  {
   "cell_type": "code",
   "execution_count": 1,
   "id": "38f56730",
   "metadata": {},
   "outputs": [],
   "source": [
    "import numpy as np\n",
    "import pandas as pd\n",
    "import matplotlib.pyplot as plt\n",
    "%matplotlib inline"
   ]
  },
  {
   "cell_type": "code",
   "execution_count": 3,
   "id": "82e2154b",
   "metadata": {},
   "outputs": [
    {
     "data": {
      "text/html": [
       "<div>\n",
       "<style scoped>\n",
       "    .dataframe tbody tr th:only-of-type {\n",
       "        vertical-align: middle;\n",
       "    }\n",
       "\n",
       "    .dataframe tbody tr th {\n",
       "        vertical-align: top;\n",
       "    }\n",
       "\n",
       "    .dataframe thead th {\n",
       "        text-align: right;\n",
       "    }\n",
       "</style>\n",
       "<table border=\"1\" class=\"dataframe\">\n",
       "  <thead>\n",
       "    <tr style=\"text-align: right;\">\n",
       "      <th></th>\n",
       "      <th>Date</th>\n",
       "      <th>Open</th>\n",
       "      <th>High</th>\n",
       "      <th>Low</th>\n",
       "      <th>Close</th>\n",
       "      <th>Volume</th>\n",
       "    </tr>\n",
       "  </thead>\n",
       "  <tbody>\n",
       "    <tr>\n",
       "      <th>0</th>\n",
       "      <td>1/3/2012</td>\n",
       "      <td>325.25</td>\n",
       "      <td>332.83</td>\n",
       "      <td>324.97</td>\n",
       "      <td>663.59</td>\n",
       "      <td>7,380,500</td>\n",
       "    </tr>\n",
       "    <tr>\n",
       "      <th>1</th>\n",
       "      <td>1/4/2012</td>\n",
       "      <td>331.27</td>\n",
       "      <td>333.87</td>\n",
       "      <td>329.08</td>\n",
       "      <td>666.45</td>\n",
       "      <td>5,749,400</td>\n",
       "    </tr>\n",
       "    <tr>\n",
       "      <th>2</th>\n",
       "      <td>1/5/2012</td>\n",
       "      <td>329.83</td>\n",
       "      <td>330.75</td>\n",
       "      <td>326.89</td>\n",
       "      <td>657.21</td>\n",
       "      <td>6,590,300</td>\n",
       "    </tr>\n",
       "    <tr>\n",
       "      <th>3</th>\n",
       "      <td>1/6/2012</td>\n",
       "      <td>328.34</td>\n",
       "      <td>328.77</td>\n",
       "      <td>323.68</td>\n",
       "      <td>648.24</td>\n",
       "      <td>5,405,900</td>\n",
       "    </tr>\n",
       "    <tr>\n",
       "      <th>4</th>\n",
       "      <td>1/9/2012</td>\n",
       "      <td>322.04</td>\n",
       "      <td>322.29</td>\n",
       "      <td>309.46</td>\n",
       "      <td>620.76</td>\n",
       "      <td>11,688,800</td>\n",
       "    </tr>\n",
       "  </tbody>\n",
       "</table>\n",
       "</div>"
      ],
      "text/plain": [
       "       Date    Open    High     Low   Close      Volume\n",
       "0  1/3/2012  325.25  332.83  324.97  663.59   7,380,500\n",
       "1  1/4/2012  331.27  333.87  329.08  666.45   5,749,400\n",
       "2  1/5/2012  329.83  330.75  326.89  657.21   6,590,300\n",
       "3  1/6/2012  328.34  328.77  323.68  648.24   5,405,900\n",
       "4  1/9/2012  322.04  322.29  309.46  620.76  11,688,800"
      ]
     },
     "execution_count": 3,
     "metadata": {},
     "output_type": "execute_result"
    }
   ],
   "source": [
    "train = pd.read_csv(\"Google_Stock_Price_Train.csv\")\n",
    "train.head()"
   ]
  },
  {
   "cell_type": "code",
   "execution_count": 4,
   "id": "830b53a7",
   "metadata": {},
   "outputs": [
    {
     "name": "stdout",
     "output_type": "stream",
     "text": [
      "<class 'pandas.core.frame.DataFrame'>\n",
      "RangeIndex: 1258 entries, 0 to 1257\n",
      "Data columns (total 6 columns):\n",
      " #   Column  Non-Null Count  Dtype  \n",
      "---  ------  --------------  -----  \n",
      " 0   Date    1258 non-null   object \n",
      " 1   Open    1258 non-null   float64\n",
      " 2   High    1258 non-null   float64\n",
      " 3   Low     1258 non-null   float64\n",
      " 4   Close   1258 non-null   object \n",
      " 5   Volume  1258 non-null   object \n",
      "dtypes: float64(3), object(3)\n",
      "memory usage: 59.1+ KB\n"
     ]
    }
   ],
   "source": [
    "train.info()"
   ]
  },
  {
   "cell_type": "code",
   "execution_count": 5,
   "id": "6d8be4da",
   "metadata": {},
   "outputs": [
    {
     "data": {
      "text/html": [
       "<div>\n",
       "<style scoped>\n",
       "    .dataframe tbody tr th:only-of-type {\n",
       "        vertical-align: middle;\n",
       "    }\n",
       "\n",
       "    .dataframe tbody tr th {\n",
       "        vertical-align: top;\n",
       "    }\n",
       "\n",
       "    .dataframe thead th {\n",
       "        text-align: right;\n",
       "    }\n",
       "</style>\n",
       "<table border=\"1\" class=\"dataframe\">\n",
       "  <thead>\n",
       "    <tr style=\"text-align: right;\">\n",
       "      <th></th>\n",
       "      <th>Open</th>\n",
       "      <th>High</th>\n",
       "      <th>Low</th>\n",
       "    </tr>\n",
       "  </thead>\n",
       "  <tbody>\n",
       "    <tr>\n",
       "      <th>count</th>\n",
       "      <td>1258.000000</td>\n",
       "      <td>1258.000000</td>\n",
       "      <td>1258.000000</td>\n",
       "    </tr>\n",
       "    <tr>\n",
       "      <th>mean</th>\n",
       "      <td>533.709833</td>\n",
       "      <td>537.880223</td>\n",
       "      <td>529.007409</td>\n",
       "    </tr>\n",
       "    <tr>\n",
       "      <th>std</th>\n",
       "      <td>151.904442</td>\n",
       "      <td>153.008811</td>\n",
       "      <td>150.552807</td>\n",
       "    </tr>\n",
       "    <tr>\n",
       "      <th>min</th>\n",
       "      <td>279.120000</td>\n",
       "      <td>281.210000</td>\n",
       "      <td>277.220000</td>\n",
       "    </tr>\n",
       "    <tr>\n",
       "      <th>25%</th>\n",
       "      <td>404.115000</td>\n",
       "      <td>406.765000</td>\n",
       "      <td>401.765000</td>\n",
       "    </tr>\n",
       "    <tr>\n",
       "      <th>50%</th>\n",
       "      <td>537.470000</td>\n",
       "      <td>540.750000</td>\n",
       "      <td>532.990000</td>\n",
       "    </tr>\n",
       "    <tr>\n",
       "      <th>75%</th>\n",
       "      <td>654.922500</td>\n",
       "      <td>662.587500</td>\n",
       "      <td>644.800000</td>\n",
       "    </tr>\n",
       "    <tr>\n",
       "      <th>max</th>\n",
       "      <td>816.680000</td>\n",
       "      <td>816.680000</td>\n",
       "      <td>805.140000</td>\n",
       "    </tr>\n",
       "  </tbody>\n",
       "</table>\n",
       "</div>"
      ],
      "text/plain": [
       "              Open         High          Low\n",
       "count  1258.000000  1258.000000  1258.000000\n",
       "mean    533.709833   537.880223   529.007409\n",
       "std     151.904442   153.008811   150.552807\n",
       "min     279.120000   281.210000   277.220000\n",
       "25%     404.115000   406.765000   401.765000\n",
       "50%     537.470000   540.750000   532.990000\n",
       "75%     654.922500   662.587500   644.800000\n",
       "max     816.680000   816.680000   805.140000"
      ]
     },
     "execution_count": 5,
     "metadata": {},
     "output_type": "execute_result"
    }
   ],
   "source": [
    "train.describe()"
   ]
  },
  {
   "cell_type": "code",
   "execution_count": 6,
   "id": "c1accf47",
   "metadata": {},
   "outputs": [
    {
     "data": {
      "text/plain": [
       "(1258, 6)"
      ]
     },
     "execution_count": 6,
     "metadata": {},
     "output_type": "execute_result"
    }
   ],
   "source": [
    "train.shape"
   ]
  },
  {
   "cell_type": "markdown",
   "id": "8f90327d",
   "metadata": {},
   "source": [
    "# Plotting\n"
   ]
  },
  {
   "cell_type": "code",
   "execution_count": 29,
   "id": "aa8e8fcf",
   "metadata": {},
   "outputs": [],
   "source": [
    "#plot closing price\n",
    "#train['Adj Close'].plot()\n",
    "#plt.title(f\"Closing Price of Google\")\n"
   ]
  },
  {
   "cell_type": "code",
   "execution_count": null,
   "id": "f6985b51",
   "metadata": {},
   "outputs": [],
   "source": []
  },
  {
   "cell_type": "code",
   "execution_count": 10,
   "id": "e326454d",
   "metadata": {},
   "outputs": [
    {
     "data": {
      "text/plain": [
       "<AxesSubplot:>"
      ]
     },
     "execution_count": 10,
     "metadata": {},
     "output_type": "execute_result"
    },
    {
     "data": {
      "image/png": "[encoded data removed]",
      "text/plain": [
       "<Figure size 432x288 with 1 Axes>"
      ]
     },
     "metadata": {
      "needs_background": "light"
     },
     "output_type": "display_data"
    }
   ],
   "source": [
    "train['Open'].plot()"
   ]
  },
  {
   "cell_type": "code",
   "execution_count": 11,
   "id": "93e10c57",
   "metadata": {},
   "outputs": [
    {
     "data": {
      "text/plain": [
       "array([[325.25],\n",
       "       [331.27],\n",
       "       [329.83],\n",
       "       ...,\n",
       "       [793.7 ],\n",
       "       [783.33],\n",
       "       [782.75]])"
      ]
     },
     "execution_count": 11,
     "metadata": {},
     "output_type": "execute_result"
    }
   ],
   "source": [
    "train=train.iloc[:,1:2].values\n",
    "train"
   ]
  },
  {
   "cell_type": "code",
   "execution_count": 12,
   "id": "a093b20f",
   "metadata": {},
   "outputs": [
    {
     "data": {
      "text/plain": [
       "array([[0.08581368],\n",
       "       [0.09701243],\n",
       "       [0.09433366],\n",
       "       ...,\n",
       "       [0.95725128],\n",
       "       [0.93796041],\n",
       "       [0.93688146]])"
      ]
     },
     "execution_count": 12,
     "metadata": {},
     "output_type": "execute_result"
    }
   ],
   "source": [
    "from sklearn.preprocessing import MinMaxScaler\n",
    "sc= MinMaxScaler()\n",
    "train=sc.fit_transform(train)\n",
    "train"
   ]
  },
  {
   "cell_type": "code",
   "execution_count": 13,
   "id": "34beb947",
   "metadata": {},
   "outputs": [],
   "source": [
    "x_train= train[0:1257]\n",
    "y_train= train[1:1258]"
   ]
  },
  {
   "cell_type": "code",
   "execution_count": 14,
   "id": "a31e2d54",
   "metadata": {},
   "outputs": [],
   "source": [
    "x_train=np.reshape(x_train, (1257 , 1 , 1))"
   ]
  },
  {
   "cell_type": "code",
   "execution_count": 15,
   "id": "4f794831",
   "metadata": {},
   "outputs": [
    {
     "data": {
      "text/plain": [
       "array([[[0.08581368]],\n",
       "\n",
       "       [[0.09701243]],\n",
       "\n",
       "       [[0.09433366]],\n",
       "\n",
       "       ...,\n",
       "\n",
       "       [[0.95163331]],\n",
       "\n",
       "       [[0.95725128]],\n",
       "\n",
       "       [[0.93796041]]])"
      ]
     },
     "execution_count": 15,
     "metadata": {},
     "output_type": "execute_result"
    }
   ],
   "source": [
    "x_train"
   ]
  },
  {
   "cell_type": "code",
   "execution_count": 16,
   "id": "da9fa6f8",
   "metadata": {},
   "outputs": [
    {
     "data": {
      "text/plain": [
       "(1257, 1, 1)"
      ]
     },
     "execution_count": 16,
     "metadata": {},
     "output_type": "execute_result"
    }
   ],
   "source": [
    "x_train.shape"
   ]
  },
  {
   "cell_type": "code",
   "execution_count": 17,
   "id": "3ef75515",
   "metadata": {},
   "outputs": [],
   "source": [
    "from keras.models import Sequential\n",
    "from keras.layers import Dense\n",
    "from keras.layers import LSTM"
   ]
  },
  {
   "cell_type": "code",
   "execution_count": 18,
   "id": "e989d9dd",
   "metadata": {},
   "outputs": [
    {
     "name": "stdout",
     "output_type": "stream",
     "text": [
      "Epoch 1/200\n",
      "40/40 [==============================] - 2s 2ms/step - loss: 0.4708\n",
      "Epoch 2/200\n",
      "40/40 [==============================] - 0s 2ms/step - loss: 0.3597\n",
      "Epoch 3/200\n",
      "40/40 [==============================] - 0s 2ms/step - loss: 0.2750\n",
      "Epoch 4/200\n",
      "40/40 [==============================] - 0s 2ms/step - loss: 0.2119\n",
      "Epoch 5/200\n",
      "40/40 [==============================] - 0s 2ms/step - loss: 0.1654\n",
      "Epoch 6/200\n",
      "40/40 [==============================] - 0s 2ms/step - loss: 0.1320\n",
      "Epoch 7/200\n",
      "40/40 [==============================] - 0s 2ms/step - loss: 0.1088\n",
      "Epoch 8/200\n",
      "40/40 [==============================] - 0s 2ms/step - loss: 0.0927\n",
      "Epoch 9/200\n",
      "40/40 [==============================] - 0s 2ms/step - loss: 0.0822\n",
      "Epoch 10/200\n",
      "40/40 [==============================] - 0s 2ms/step - loss: 0.0752\n",
      "Epoch 11/200\n",
      "40/40 [==============================] - 0s 2ms/step - loss: 0.0708\n",
      "Epoch 12/200\n",
      "40/40 [==============================] - 0s 2ms/step - loss: 0.0680\n",
      "Epoch 13/200\n",
      "40/40 [==============================] - 0s 2ms/step - loss: 0.0662\n",
      "Epoch 14/200\n",
      "40/40 [==============================] - 0s 2ms/step - loss: 0.0651\n",
      "Epoch 15/200\n",
      "40/40 [==============================] - 0s 2ms/step - loss: 0.0642\n",
      "Epoch 16/200\n",
      "40/40 [==============================] - 0s 2ms/step - loss: 0.0635\n",
      "Epoch 17/200\n",
      "40/40 [==============================] - 0s 2ms/step - loss: 0.0628\n",
      "Epoch 18/200\n",
      "40/40 [==============================] - 0s 2ms/step - loss: 0.0622\n",
      "Epoch 19/200\n",
      "40/40 [==============================] - 0s 2ms/step - loss: 0.0616\n",
      "Epoch 20/200\n",
      "40/40 [==============================] - 0s 2ms/step - loss: 0.0609\n",
      "Epoch 21/200\n",
      "40/40 [==============================] - 0s 2ms/step - loss: 0.0602\n",
      "Epoch 22/200\n",
      "40/40 [==============================] - 0s 2ms/step - loss: 0.0596\n",
      "Epoch 23/200\n",
      "40/40 [==============================] - 0s 2ms/step - loss: 0.0588\n",
      "Epoch 24/200\n",
      "40/40 [==============================] - 0s 2ms/step - loss: 0.0581\n",
      "Epoch 25/200\n",
      "40/40 [==============================] - 0s 2ms/step - loss: 0.0573\n",
      "Epoch 26/200\n",
      "40/40 [==============================] - 0s 2ms/step - loss: 0.0565\n",
      "Epoch 27/200\n",
      "40/40 [==============================] - 0s 2ms/step - loss: 0.0557\n",
      "Epoch 28/200\n",
      "40/40 [==============================] - 0s 2ms/step - loss: 0.0549\n",
      "Epoch 29/200\n",
      "40/40 [==============================] - 0s 2ms/step - loss: 0.0540\n",
      "Epoch 30/200\n",
      "40/40 [==============================] - 0s 2ms/step - loss: 0.0531\n",
      "Epoch 31/200\n",
      "40/40 [==============================] - 0s 2ms/step - loss: 0.0522\n",
      "Epoch 32/200\n",
      "40/40 [==============================] - 0s 2ms/step - loss: 0.0513\n",
      "Epoch 33/200\n",
      "40/40 [==============================] - 0s 2ms/step - loss: 0.0503\n",
      "Epoch 34/200\n",
      "40/40 [==============================] - 0s 2ms/step - loss: 0.0493\n",
      "Epoch 35/200\n",
      "40/40 [==============================] - 0s 2ms/step - loss: 0.0482\n",
      "Epoch 36/200\n",
      "40/40 [==============================] - 0s 2ms/step - loss: 0.0472\n",
      "Epoch 37/200\n",
      "40/40 [==============================] - 0s 2ms/step - loss: 0.0461\n",
      "Epoch 38/200\n",
      "40/40 [==============================] - 0s 2ms/step - loss: 0.0449\n",
      "Epoch 39/200\n",
      "40/40 [==============================] - 0s 2ms/step - loss: 0.0438\n",
      "Epoch 40/200\n",
      "40/40 [==============================] - 0s 2ms/step - loss: 0.0426\n",
      "Epoch 41/200\n",
      "40/40 [==============================] - 0s 2ms/step - loss: 0.0413\n",
      "Epoch 42/200\n",
      "40/40 [==============================] - 0s 2ms/step - loss: 0.0401\n",
      "Epoch 43/200\n",
      "40/40 [==============================] - 0s 2ms/step - loss: 0.0388\n",
      "Epoch 44/200\n",
      "40/40 [==============================] - 0s 2ms/step - loss: 0.0375\n",
      "Epoch 45/200\n",
      "40/40 [==============================] - 0s 2ms/step - loss: 0.0362\n",
      "Epoch 46/200\n",
      "40/40 [==============================] - 0s 2ms/step - loss: 0.0349\n",
      "Epoch 47/200\n",
      "40/40 [==============================] - 0s 2ms/step - loss: 0.0335\n",
      "Epoch 48/200\n",
      "40/40 [==============================] - 0s 3ms/step - loss: 0.0322\n",
      "Epoch 49/200\n",
      "40/40 [==============================] - 0s 2ms/step - loss: 0.0308\n",
      "Epoch 50/200\n",
      "40/40 [==============================] - 0s 3ms/step - loss: 0.0294\n",
      "Epoch 51/200\n",
      "40/40 [==============================] - 0s 3ms/step - loss: 0.0279\n",
      "Epoch 52/200\n",
      "40/40 [==============================] - 0s 2ms/step - loss: 0.0265\n",
      "Epoch 53/200\n",
      "40/40 [==============================] - 0s 2ms/step - loss: 0.0251\n",
      "Epoch 54/200\n",
      "40/40 [==============================] - 0s 2ms/step - loss: 0.0237\n",
      "Epoch 55/200\n",
      "40/40 [==============================] - 0s 2ms/step - loss: 0.0223\n",
      "Epoch 56/200\n",
      "40/40 [==============================] - 0s 2ms/step - loss: 0.0210\n",
      "Epoch 57/200\n",
      "40/40 [==============================] - 0s 2ms/step - loss: 0.0196\n",
      "Epoch 58/200\n",
      "40/40 [==============================] - 0s 2ms/step - loss: 0.0182\n",
      "Epoch 59/200\n",
      "40/40 [==============================] - 0s 2ms/step - loss: 0.0169\n",
      "Epoch 60/200\n",
      "40/40 [==============================] - 0s 2ms/step - loss: 0.0157\n",
      "Epoch 61/200\n",
      "40/40 [==============================] - 0s 2ms/step - loss: 0.0145\n",
      "Epoch 62/200\n",
      "40/40 [==============================] - 0s 2ms/step - loss: 0.0133\n",
      "Epoch 63/200\n",
      "40/40 [==============================] - 0s 2ms/step - loss: 0.0122\n",
      "Epoch 64/200\n",
      "40/40 [==============================] - 0s 2ms/step - loss: 0.0111\n",
      "Epoch 65/200\n",
      "40/40 [==============================] - 0s 2ms/step - loss: 0.0101\n",
      "Epoch 66/200\n",
      "40/40 [==============================] - 0s 2ms/step - loss: 0.0091\n",
      "Epoch 67/200\n",
      "40/40 [==============================] - 0s 2ms/step - loss: 0.0082\n",
      "Epoch 68/200\n",
      "40/40 [==============================] - 0s 2ms/step - loss: 0.0074\n",
      "Epoch 69/200\n",
      "40/40 [==============================] - 0s 2ms/step - loss: 0.0066\n",
      "Epoch 70/200\n",
      "40/40 [==============================] - 0s 2ms/step - loss: 0.0059\n",
      "Epoch 71/200\n",
      "40/40 [==============================] - 0s 2ms/step - loss: 0.0052\n",
      "Epoch 72/200\n",
      "40/40 [==============================] - 0s 2ms/step - loss: 0.0046\n",
      "Epoch 73/200\n",
      "40/40 [==============================] - 0s 2ms/step - loss: 0.0041\n",
      "Epoch 74/200\n",
      "40/40 [==============================] - 0s 2ms/step - loss: 0.0036\n",
      "Epoch 75/200\n",
      "40/40 [==============================] - 0s 2ms/step - loss: 0.0031\n",
      "Epoch 76/200\n",
      "40/40 [==============================] - 0s 2ms/step - loss: 0.0028\n",
      "Epoch 77/200\n",
      "40/40 [==============================] - 0s 2ms/step - loss: 0.0024\n",
      "Epoch 78/200\n",
      "40/40 [==============================] - 0s 2ms/step - loss: 0.0021\n",
      "Epoch 79/200\n",
      "40/40 [==============================] - 0s 2ms/step - loss: 0.0019\n",
      "Epoch 80/200\n",
      "40/40 [==============================] - 0s 2ms/step - loss: 0.0017\n",
      "Epoch 81/200\n",
      "40/40 [==============================] - 0s 3ms/step - loss: 0.0015\n",
      "Epoch 82/200\n",
      "40/40 [==============================] - 0s 2ms/step - loss: 0.0013\n",
      "Epoch 83/200\n",
      "40/40 [==============================] - 0s 2ms/step - loss: 0.0012\n",
      "Epoch 84/200\n",
      "40/40 [==============================] - 0s 2ms/step - loss: 0.0011\n",
      "Epoch 85/200\n",
      "40/40 [==============================] - 0s 2ms/step - loss: 9.9979e-04\n",
      "Epoch 86/200\n",
      "40/40 [==============================] - 0s 2ms/step - loss: 9.2356e-04\n",
      "Epoch 87/200\n",
      "40/40 [==============================] - 0s 2ms/step - loss: 8.5980e-04\n",
      "Epoch 88/200\n",
      "40/40 [==============================] - 0s 2ms/step - loss: 8.0734e-04\n",
      "Epoch 89/200\n",
      "40/40 [==============================] - 0s 2ms/step - loss: 7.6645e-04\n",
      "Epoch 90/200\n",
      "40/40 [==============================] - 0s 2ms/step - loss: 7.3253e-04\n",
      "Epoch 91/200\n",
      "40/40 [==============================] - 0s 3ms/step - loss: 7.0665e-04\n",
      "Epoch 92/200\n",
      "40/40 [==============================] - 0s 3ms/step - loss: 6.8321e-04\n",
      "Epoch 93/200\n",
      "40/40 [==============================] - 0s 2ms/step - loss: 6.6357e-04\n",
      "Epoch 94/200\n",
      "40/40 [==============================] - 0s 2ms/step - loss: 6.4852e-04\n",
      "Epoch 95/200\n",
      "40/40 [==============================] - 0s 2ms/step - loss: 6.3570e-04\n",
      "Epoch 96/200\n",
      "40/40 [==============================] - 0s 2ms/step - loss: 6.2537e-04\n",
      "Epoch 97/200\n",
      "40/40 [==============================] - 0s 2ms/step - loss: 6.1659e-04\n",
      "Epoch 98/200\n",
      "40/40 [==============================] - 0s 2ms/step - loss: 6.0832e-04\n",
      "Epoch 99/200\n",
      "40/40 [==============================] - 0s 2ms/step - loss: 6.0109e-04\n",
      "Epoch 100/200\n",
      "40/40 [==============================] - 0s 2ms/step - loss: 5.9410e-04\n",
      "Epoch 101/200\n"
     ]
    },
    {
     "name": "stdout",
     "output_type": "stream",
     "text": [
      "40/40 [==============================] - 0s 2ms/step - loss: 5.8882e-04\n",
      "Epoch 102/200\n",
      "40/40 [==============================] - 0s 2ms/step - loss: 5.8335e-04\n",
      "Epoch 103/200\n",
      "40/40 [==============================] - 0s 2ms/step - loss: 5.7792e-04\n",
      "Epoch 104/200\n",
      "40/40 [==============================] - 0s 2ms/step - loss: 5.7269e-04\n",
      "Epoch 105/200\n",
      "40/40 [==============================] - 0s 2ms/step - loss: 5.6818e-04\n",
      "Epoch 106/200\n",
      "40/40 [==============================] - 0s 2ms/step - loss: 5.6180e-04\n",
      "Epoch 107/200\n",
      "40/40 [==============================] - 0s 2ms/step - loss: 5.5734e-04\n",
      "Epoch 108/200\n",
      "40/40 [==============================] - 0s 2ms/step - loss: 5.5263e-04\n",
      "Epoch 109/200\n",
      "40/40 [==============================] - 0s 2ms/step - loss: 5.4948e-04\n",
      "Epoch 110/200\n",
      "40/40 [==============================] - 0s 2ms/step - loss: 5.4241e-04\n",
      "Epoch 111/200\n",
      "40/40 [==============================] - 0s 2ms/step - loss: 5.3805e-04\n",
      "Epoch 112/200\n",
      "40/40 [==============================] - 0s 2ms/step - loss: 5.3634e-04\n",
      "Epoch 113/200\n",
      "40/40 [==============================] - 0s 2ms/step - loss: 5.2927e-04\n",
      "Epoch 114/200\n",
      "40/40 [==============================] - 0s 2ms/step - loss: 5.2525e-04\n",
      "Epoch 115/200\n",
      "40/40 [==============================] - 0s 2ms/step - loss: 5.1938e-04\n",
      "Epoch 116/200\n",
      "40/40 [==============================] - 0s 2ms/step - loss: 5.1454e-04\n",
      "Epoch 117/200\n",
      "40/40 [==============================] - 0s 2ms/step - loss: 5.1033e-04\n",
      "Epoch 118/200\n",
      "40/40 [==============================] - 0s 2ms/step - loss: 5.0574e-04\n",
      "Epoch 119/200\n",
      "40/40 [==============================] - 0s 2ms/step - loss: 5.0114e-04\n",
      "Epoch 120/200\n",
      "40/40 [==============================] - 0s 2ms/step - loss: 4.9610e-04\n",
      "Epoch 121/200\n",
      "40/40 [==============================] - 0s 2ms/step - loss: 4.9077e-04\n",
      "Epoch 122/200\n",
      "40/40 [==============================] - 0s 2ms/step - loss: 4.8730e-04\n",
      "Epoch 123/200\n",
      "40/40 [==============================] - 0s 2ms/step - loss: 4.8220e-04\n",
      "Epoch 124/200\n",
      "40/40 [==============================] - 0s 2ms/step - loss: 4.7728e-04\n",
      "Epoch 125/200\n",
      "40/40 [==============================] - 0s 2ms/step - loss: 4.7269e-04\n",
      "Epoch 126/200\n",
      "40/40 [==============================] - 0s 2ms/step - loss: 4.6892e-04\n",
      "Epoch 127/200\n",
      "40/40 [==============================] - 0s 2ms/step - loss: 4.6481e-04\n",
      "Epoch 128/200\n",
      "40/40 [==============================] - 0s 2ms/step - loss: 4.5909e-04\n",
      "Epoch 129/200\n",
      "40/40 [==============================] - 0s 2ms/step - loss: 4.5485e-04\n",
      "Epoch 130/200\n",
      "40/40 [==============================] - 0s 2ms/step - loss: 4.5256e-04\n",
      "Epoch 131/200\n",
      "40/40 [==============================] - 0s 2ms/step - loss: 4.4600e-04\n",
      "Epoch 132/200\n",
      "40/40 [==============================] - 0s 2ms/step - loss: 4.4236e-04\n",
      "Epoch 133/200\n",
      "40/40 [==============================] - 0s 2ms/step - loss: 4.4004e-04\n",
      "Epoch 134/200\n",
      "40/40 [==============================] - 0s 2ms/step - loss: 4.3289e-04\n",
      "Epoch 135/200\n",
      "40/40 [==============================] - 0s 2ms/step - loss: 4.2914e-04\n",
      "Epoch 136/200\n",
      "40/40 [==============================] - 0s 2ms/step - loss: 4.2453e-04\n",
      "Epoch 137/200\n",
      "40/40 [==============================] - 0s 2ms/step - loss: 4.2100e-04\n",
      "Epoch 138/200\n",
      "40/40 [==============================] - 0s 2ms/step - loss: 4.1630e-04\n",
      "Epoch 139/200\n",
      "40/40 [==============================] - 0s 2ms/step - loss: 4.1309e-04\n",
      "Epoch 140/200\n",
      "40/40 [==============================] - 0s 2ms/step - loss: 4.0867e-04\n",
      "Epoch 141/200\n",
      "40/40 [==============================] - 0s 2ms/step - loss: 4.0422e-04\n",
      "Epoch 142/200\n",
      "40/40 [==============================] - 0s 2ms/step - loss: 4.0177e-04\n",
      "Epoch 143/200\n",
      "40/40 [==============================] - 0s 2ms/step - loss: 3.9899e-04\n",
      "Epoch 144/200\n",
      "40/40 [==============================] - 0s 2ms/step - loss: 3.9312e-04\n",
      "Epoch 145/200\n",
      "40/40 [==============================] - 0s 2ms/step - loss: 3.8966e-04\n",
      "Epoch 146/200\n",
      "40/40 [==============================] - 0s 2ms/step - loss: 3.8670e-04\n",
      "Epoch 147/200\n",
      "40/40 [==============================] - 0s 2ms/step - loss: 3.8230e-04\n",
      "Epoch 148/200\n",
      "40/40 [==============================] - 0s 2ms/step - loss: 3.7903e-04\n",
      "Epoch 149/200\n",
      "40/40 [==============================] - 0s 2ms/step - loss: 3.7572e-04\n",
      "Epoch 150/200\n",
      "40/40 [==============================] - 0s 2ms/step - loss: 3.7094e-04\n",
      "Epoch 151/200\n",
      "40/40 [==============================] - 0s 2ms/step - loss: 3.6818e-04\n",
      "Epoch 152/200\n",
      "40/40 [==============================] - 0s 2ms/step - loss: 3.6510e-04\n",
      "Epoch 153/200\n",
      "40/40 [==============================] - 0s 2ms/step - loss: 3.6192e-04\n",
      "Epoch 154/200\n",
      "40/40 [==============================] - 0s 2ms/step - loss: 3.5765e-04\n",
      "Epoch 155/200\n",
      "40/40 [==============================] - 0s 2ms/step - loss: 3.5770e-04\n",
      "Epoch 156/200\n",
      "40/40 [==============================] - 0s 2ms/step - loss: 3.5293e-04\n",
      "Epoch 157/200\n",
      "40/40 [==============================] - 0s 2ms/step - loss: 3.5041e-04\n",
      "Epoch 158/200\n",
      "40/40 [==============================] - 0s 2ms/step - loss: 3.4947e-04\n",
      "Epoch 159/200\n",
      "40/40 [==============================] - 0s 2ms/step - loss: 3.4620e-04\n",
      "Epoch 160/200\n",
      "40/40 [==============================] - 0s 2ms/step - loss: 3.4269e-04\n",
      "Epoch 161/200\n",
      "40/40 [==============================] - 0s 2ms/step - loss: 3.4198e-04\n",
      "Epoch 162/200\n",
      "40/40 [==============================] - 0s 2ms/step - loss: 3.3686e-04\n",
      "Epoch 163/200\n",
      "40/40 [==============================] - 0s 2ms/step - loss: 3.3246e-04\n",
      "Epoch 164/200\n",
      "40/40 [==============================] - 0s 2ms/step - loss: 3.3039e-04\n",
      "Epoch 165/200\n",
      "40/40 [==============================] - 0s 2ms/step - loss: 3.2856e-04\n",
      "Epoch 166/200\n",
      "40/40 [==============================] - 0s 2ms/step - loss: 3.2641e-04\n",
      "Epoch 167/200\n",
      "40/40 [==============================] - 0s 2ms/step - loss: 3.2485e-04\n",
      "Epoch 168/200\n",
      "40/40 [==============================] - 0s 2ms/step - loss: 3.2146e-04\n",
      "Epoch 169/200\n",
      "40/40 [==============================] - 0s 2ms/step - loss: 3.1884e-04\n",
      "Epoch 170/200\n",
      "40/40 [==============================] - 0s 2ms/step - loss: 3.1821e-04\n",
      "Epoch 171/200\n",
      "40/40 [==============================] - 0s 2ms/step - loss: 3.1508e-04\n",
      "Epoch 172/200\n",
      "40/40 [==============================] - 0s 2ms/step - loss: 3.1438e-04\n",
      "Epoch 173/200\n",
      "40/40 [==============================] - 0s 2ms/step - loss: 3.1255e-04\n",
      "Epoch 174/200\n",
      "40/40 [==============================] - 0s 2ms/step - loss: 3.0842e-04\n",
      "Epoch 175/200\n",
      "40/40 [==============================] - 0s 2ms/step - loss: 3.0655e-04\n",
      "Epoch 176/200\n",
      "40/40 [==============================] - 0s 2ms/step - loss: 3.0589e-04\n",
      "Epoch 177/200\n",
      "40/40 [==============================] - 0s 2ms/step - loss: 3.0376e-04\n",
      "Epoch 178/200\n",
      "40/40 [==============================] - 0s 2ms/step - loss: 3.0544e-04\n",
      "Epoch 179/200\n",
      "40/40 [==============================] - 0s 2ms/step - loss: 2.9991e-04\n",
      "Epoch 180/200\n",
      "40/40 [==============================] - 0s 2ms/step - loss: 2.9968e-04\n",
      "Epoch 181/200\n",
      "40/40 [==============================] - 0s 3ms/step - loss: 2.9843e-04\n",
      "Epoch 182/200\n",
      "40/40 [==============================] - 0s 2ms/step - loss: 2.9606e-04\n",
      "Epoch 183/200\n",
      "40/40 [==============================] - 0s 2ms/step - loss: 2.9543e-04\n",
      "Epoch 184/200\n",
      "40/40 [==============================] - 0s 2ms/step - loss: 2.9261e-04\n",
      "Epoch 185/200\n",
      "40/40 [==============================] - 0s 2ms/step - loss: 2.9477e-04\n",
      "Epoch 186/200\n",
      "40/40 [==============================] - 0s 2ms/step - loss: 2.9614e-04\n",
      "Epoch 187/200\n",
      "40/40 [==============================] - 0s 2ms/step - loss: 2.9136e-04\n",
      "Epoch 188/200\n",
      "40/40 [==============================] - 0s 2ms/step - loss: 2.8913e-04\n",
      "Epoch 189/200\n",
      "40/40 [==============================] - 0s 2ms/step - loss: 2.8885e-04\n",
      "Epoch 190/200\n",
      "40/40 [==============================] - 0s 2ms/step - loss: 2.8651e-04\n",
      "Epoch 191/200\n",
      "40/40 [==============================] - 0s 2ms/step - loss: 2.8579e-04\n",
      "Epoch 192/200\n",
      "40/40 [==============================] - 0s 2ms/step - loss: 2.8447e-04\n",
      "Epoch 193/200\n",
      "40/40 [==============================] - 0s 2ms/step - loss: 2.9242e-04\n",
      "Epoch 194/200\n",
      "40/40 [==============================] - 0s 2ms/step - loss: 2.8069e-04\n",
      "Epoch 195/200\n",
      "40/40 [==============================] - 0s 2ms/step - loss: 2.8618e-04\n",
      "Epoch 196/200\n"
     ]
    },
    {
     "name": "stdout",
     "output_type": "stream",
     "text": [
      "40/40 [==============================] - 0s 2ms/step - loss: 2.8035e-04\n",
      "Epoch 197/200\n",
      "40/40 [==============================] - 0s 2ms/step - loss: 2.8110e-04\n",
      "Epoch 198/200\n",
      "40/40 [==============================] - 0s 2ms/step - loss: 2.8118e-04\n",
      "Epoch 199/200\n",
      "40/40 [==============================] - 0s 2ms/step - loss: 2.7860e-04\n",
      "Epoch 200/200\n",
      "40/40 [==============================] - 0s 2ms/step - loss: 2.7920e-04\n"
     ]
    },
    {
     "data": {
      "text/plain": [
       "<keras.callbacks.History at 0x22d903aff40>"
      ]
     },
     "execution_count": 18,
     "metadata": {},
     "output_type": "execute_result"
    }
   ],
   "source": [
    "model = Sequential()\n",
    "model.add(LSTM(4, activation= 'sigmoid', input_shape= (None,1)))\n",
    "model.add(Dense(1))\n",
    "model.compile(optimizer='adam', loss='mean_squared_error')\n",
    "model.fit(x_train, y_train, batch_size=32, epochs=200)"
   ]
  },
  {
   "cell_type": "code",
   "execution_count": 20,
   "id": "4f8df099",
   "metadata": {},
   "outputs": [],
   "source": [
    "# testset\n",
    "test_set = pd.read_csv('Google_Stock_Price_Test.csv')\n",
    "real_stock_price = test_set.iloc[:,1:2].values"
   ]
  },
  {
   "cell_type": "code",
   "execution_count": 21,
   "id": "4796c52a",
   "metadata": {},
   "outputs": [
    {
     "data": {
      "text/plain": [
       "(20, 1)"
      ]
     },
     "execution_count": 21,
     "metadata": {},
     "output_type": "execute_result"
    }
   ],
   "source": [
    "real_stock_price.shape"
   ]
  },
  {
   "cell_type": "code",
   "execution_count": 23,
   "id": "82996c00",
   "metadata": {},
   "outputs": [],
   "source": [
    "inputs = real_stock_price\n",
    "inputs = sc.transform(inputs)\n",
    "inputs = np.reshape(inputs, (20 , 1, 1))"
   ]
  },
  {
   "cell_type": "code",
   "execution_count": 24,
   "id": "29922c7d",
   "metadata": {},
   "outputs": [
    {
     "name": "stdout",
     "output_type": "stream",
     "text": [
      "1/1 [==============================] - 0s 192ms/step\n"
     ]
    }
   ],
   "source": [
    "prediction = model.predict(inputs)\n",
    "prediction = sc.inverse_transform(prediction)"
   ]
  },
  {
   "cell_type": "code",
   "execution_count": 25,
   "id": "551395b4",
   "metadata": {},
   "outputs": [
    {
     "data": {
      "text/plain": [
       "array([[771.2423 ],\n",
       "       [779.019  ],\n",
       "       [777.17456],\n",
       "       [784.555  ],\n",
       "       [793.3448 ],\n",
       "       [794.48315],\n",
       "       [792.2502 ],\n",
       "       [793.9222 ],\n",
       "       [794.1872 ],\n",
       "       [793.8753 ],\n",
       "       [792.88385],\n",
       "       [792.3441 ],\n",
       "       [793.74286],\n",
       "       [794.0079 ],\n",
       "       [805.57056],\n",
       "       [811.0718 ],\n",
       "       [817.13116],\n",
       "       [814.84955],\n",
       "       [799.74316],\n",
       "       [785.8288 ]], dtype=float32)"
      ]
     },
     "execution_count": 25,
     "metadata": {},
     "output_type": "execute_result"
    }
   ],
   "source": [
    "prediction"
   ]
  },
  {
   "cell_type": "code",
   "execution_count": 26,
   "id": "f8a47570",
   "metadata": {},
   "outputs": [
    {
     "data": {
      "text/plain": [
       "<matplotlib.legend.Legend at 0x22d93b0d940>"
      ]
     },
     "execution_count": 26,
     "metadata": {},
     "output_type": "execute_result"
    },
    {
     "data": {
      "image/png": "[encoded data removed]",
      "text/plain": [
       "<Figure size 432x288 with 1 Axes>"
      ]
     },
     "metadata": {
      "needs_background": "light"
     },
     "output_type": "display_data"
    }
   ],
   "source": [
    "plt.plot( real_stock_price , color = 'red' , label = 'Real Price')\n",
    "plt.plot( prediction , color = 'blue' , label = 'Predicted Price')\n",
    "plt.title('Google Stock Price Prediction')\n",
    "plt.legend()"
   ]
  },
  {
   "cell_type": "code",
   "execution_count": null,
   "id": "f4a32c40",
   "metadata": {},
   "outputs": [],
   "source": []
  },
  {
   "cell_type": "code",
   "execution_count": null,
   "id": "560136dd",
   "metadata": {},
   "outputs": [],
   "source": []
  }
 ],
 "metadata": {
  "kernelspec": {
   "display_name": "Python 3 (ipykernel)",
   "language": "python",
   "name": "python3"
  },
  "language_info": {
   "codemirror_mode": {
    "name": "ipython",
    "version": 3
   },
   "file_extension": ".py",
   "mimetype": "text/x-python",
   "name": "python",
   "nbconvert_exporter": "python",
   "pygments_lexer": "ipython3",
   "version": "3.9.7"
  }
 },
 "nbformat": 4,
 "nbformat_minor": 5
}
