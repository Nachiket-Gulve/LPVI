{
  "cells": [
    {
      "cell_type": "code",
      "execution_count": 1,
      "metadata": {
        "id": "GI-O80mz1ZiV"
      },
      "outputs": [],
      "source": [
        "import numpy as np \n",
        "import pandas as pd \n",
        "import matplotlib.pyplot as plt \n",
        "from sklearn.preprocessing import MinMaxScaler\n",
        "from keras.models import Sequential\n",
        "from keras.layers import Dense,LSTM,Dropout"
      ]
    },
    {
      "cell_type": "code",
      "execution_count": 3,
      "metadata": {
        "colab": {
          "base_uri": "https://localhost:8080/",
          "height": 206
        },
        "id": "BzkDYb7F1ZiX",
        "outputId": "89ffe368-980b-4a40-dac3-01fa643764d5"
      },
      "outputs": [
        {
          "output_type": "execute_result",
          "data": {
            "text/plain": [
              "       Date    Open    High     Low   Close      Volume\n",
              "0  1/3/2012  325.25  332.83  324.97  663.59   7,380,500\n",
              "1  1/4/2012  331.27  333.87  329.08  666.45   5,749,400\n",
              "2  1/5/2012  329.83  330.75  326.89  657.21   6,590,300\n",
              "3  1/6/2012  328.34  328.77  323.68  648.24   5,405,900\n",
              "4  1/9/2012  322.04  322.29  309.46  620.76  11,688,800"
            ],
            "text/html": [
              "\n",
              "  <div id=\"df-055ef79d-dbad-4c52-901a-38a03d2c1da0\">\n",
              "    <div class=\"colab-df-container\">\n",
              "      <div>\n",
              "<style scoped>\n",
              "    .dataframe tbody tr th:only-of-type {\n",
              "        vertical-align: middle;\n",
              "    }\n",
              "\n",
              "    .dataframe tbody tr th {\n",
              "        vertical-align: top;\n",
              "    }\n",
              "\n",
              "    .dataframe thead th {\n",
              "        text-align: right;\n",
              "    }\n",
              "</style>\n",
              "<table border=\"1\" class=\"dataframe\">\n",
              "  <thead>\n",
              "    <tr style=\"text-align: right;\">\n",
              "      <th></th>\n",
              "      <th>Date</th>\n",
              "      <th>Open</th>\n",
              "      <th>High</th>\n",
              "      <th>Low</th>\n",
              "      <th>Close</th>\n",
              "      <th>Volume</th>\n",
              "    </tr>\n",
              "  </thead>\n",
              "  <tbody>\n",
              "    <tr>\n",
              "      <th>0</th>\n",
              "      <td>1/3/2012</td>\n",
              "      <td>325.25</td>\n",
              "      <td>332.83</td>\n",
              "      <td>324.97</td>\n",
              "      <td>663.59</td>\n",
              "      <td>7,380,500</td>\n",
              "    </tr>\n",
              "    <tr>\n",
              "      <th>1</th>\n",
              "      <td>1/4/2012</td>\n",
              "      <td>331.27</td>\n",
              "      <td>333.87</td>\n",
              "      <td>329.08</td>\n",
              "      <td>666.45</td>\n",
              "      <td>5,749,400</td>\n",
              "    </tr>\n",
              "    <tr>\n",
              "      <th>2</th>\n",
              "      <td>1/5/2012</td>\n",
              "      <td>329.83</td>\n",
              "      <td>330.75</td>\n",
              "      <td>326.89</td>\n",
              "      <td>657.21</td>\n",
              "      <td>6,590,300</td>\n",
              "    </tr>\n",
              "    <tr>\n",
              "      <th>3</th>\n",
              "      <td>1/6/2012</td>\n",
              "      <td>328.34</td>\n",
              "      <td>328.77</td>\n",
              "      <td>323.68</td>\n",
              "      <td>648.24</td>\n",
              "      <td>5,405,900</td>\n",
              "    </tr>\n",
              "    <tr>\n",
              "      <th>4</th>\n",
              "      <td>1/9/2012</td>\n",
              "      <td>322.04</td>\n",
              "      <td>322.29</td>\n",
              "      <td>309.46</td>\n",
              "      <td>620.76</td>\n",
              "      <td>11,688,800</td>\n",
              "    </tr>\n",
              "  </tbody>\n",
              "</table>\n",
              "</div>\n",
              "      <button class=\"colab-df-convert\" onclick=\"convertToInteractive('df-055ef79d-dbad-4c52-901a-38a03d2c1da0')\"\n",
              "              title=\"Convert this dataframe to an interactive table.\"\n",
              "              style=\"display:none;\">\n",
              "        \n",
              "  <svg xmlns=\"http://www.w3.org/2000/svg\" height=\"24px\"viewBox=\"0 0 24 24\"\n",
              "       width=\"24px\">\n",
              "    <path d=\"M0 0h24v24H0V0z\" fill=\"none\"/>\n",
              "    <path d=\"M18.56 5.44l.94 2.06.94-2.06 2.06-.94-2.06-.94-.94-2.06-.94 2.06-2.06.94zm-11 1L8.5 8.5l.94-2.06 2.06-.94-2.06-.94L8.5 2.5l-.94 2.06-2.06.94zm10 10l.94 2.06.94-2.06 2.06-.94-2.06-.94-.94-2.06-.94 2.06-2.06.94z\"/><path d=\"M17.41 7.96l-1.37-1.37c-.4-.4-.92-.59-1.43-.59-.52 0-1.04.2-1.43.59L10.3 9.45l-7.72 7.72c-.78.78-.78 2.05 0 2.83L4 21.41c.39.39.9.59 1.41.59.51 0 1.02-.2 1.41-.59l7.78-7.78 2.81-2.81c.8-.78.8-2.07 0-2.86zM5.41 20L4 18.59l7.72-7.72 1.47 1.35L5.41 20z\"/>\n",
              "  </svg>\n",
              "      </button>\n",
              "      \n",
              "  <style>\n",
              "    .colab-df-container {\n",
              "      display:flex;\n",
              "      flex-wrap:wrap;\n",
              "      gap: 12px;\n",
              "    }\n",
              "\n",
              "    .colab-df-convert {\n",
              "      background-color: #E8F0FE;\n",
              "      border: none;\n",
              "      border-radius: 50%;\n",
              "      cursor: pointer;\n",
              "      display: none;\n",
              "      fill: #1967D2;\n",
              "      height: 32px;\n",
              "      padding: 0 0 0 0;\n",
              "      width: 32px;\n",
              "    }\n",
              "\n",
              "    .colab-df-convert:hover {\n",
              "      background-color: #E2EBFA;\n",
              "      box-shadow: 0px 1px 2px rgba(60, 64, 67, 0.3), 0px 1px 3px 1px rgba(60, 64, 67, 0.15);\n",
              "      fill: #174EA6;\n",
              "    }\n",
              "\n",
              "    [theme=dark] .colab-df-convert {\n",
              "      background-color: #3B4455;\n",
              "      fill: #D2E3FC;\n",
              "    }\n",
              "\n",
              "    [theme=dark] .colab-df-convert:hover {\n",
              "      background-color: #434B5C;\n",
              "      box-shadow: 0px 1px 3px 1px rgba(0, 0, 0, 0.15);\n",
              "      filter: drop-shadow(0px 1px 2px rgba(0, 0, 0, 0.3));\n",
              "      fill: #FFFFFF;\n",
              "    }\n",
              "  </style>\n",
              "\n",
              "      <script>\n",
              "        const buttonEl =\n",
              "          document.querySelector('#df-055ef79d-dbad-4c52-901a-38a03d2c1da0 button.colab-df-convert');\n",
              "        buttonEl.style.display =\n",
              "          google.colab.kernel.accessAllowed ? 'block' : 'none';\n",
              "\n",
              "        async function convertToInteractive(key) {\n",
              "          const element = document.querySelector('#df-055ef79d-dbad-4c52-901a-38a03d2c1da0');\n",
              "          const dataTable =\n",
              "            await google.colab.kernel.invokeFunction('convertToInteractive',\n",
              "                                                     [key], {});\n",
              "          if (!dataTable) return;\n",
              "\n",
              "          const docLinkHtml = 'Like what you see? Visit the ' +\n",
              "            '<a target=\"_blank\" href=https://colab.research.google.com/notebooks/data_table.ipynb>data table notebook</a>'\n",
              "            + ' to learn more about interactive tables.';\n",
              "          element.innerHTML = '';\n",
              "          dataTable['output_type'] = 'display_data';\n",
              "          await google.colab.output.renderOutput(dataTable, element);\n",
              "          const docLink = document.createElement('div');\n",
              "          docLink.innerHTML = docLinkHtml;\n",
              "          element.appendChild(docLink);\n",
              "        }\n",
              "      </script>\n",
              "    </div>\n",
              "  </div>\n",
              "  "
            ]
          },
          "metadata": {},
          "execution_count": 3
        }
      ],
      "source": [
        "data = pd.read_csv('Google_train_data.csv')\n",
        "data.head()"
      ]
    },
    {
      "cell_type": "code",
      "execution_count": 4,
      "metadata": {
        "id": "3KiWD9jr1ZiX",
        "colab": {
          "base_uri": "https://localhost:8080/"
        },
        "outputId": "b8d26d62-53a1-4424-cba8-6e304bfd151c"
      },
      "outputs": [
        {
          "output_type": "stream",
          "name": "stdout",
          "text": [
            "<class 'pandas.core.frame.DataFrame'>\n",
            "RangeIndex: 1258 entries, 0 to 1257\n",
            "Data columns (total 6 columns):\n",
            " #   Column  Non-Null Count  Dtype  \n",
            "---  ------  --------------  -----  \n",
            " 0   Date    1258 non-null   object \n",
            " 1   Open    1258 non-null   float64\n",
            " 2   High    1258 non-null   float64\n",
            " 3   Low     1258 non-null   float64\n",
            " 4   Close   1258 non-null   object \n",
            " 5   Volume  1258 non-null   object \n",
            "dtypes: float64(3), object(3)\n",
            "memory usage: 59.1+ KB\n"
          ]
        }
      ],
      "source": [
        "data.info()"
      ]
    },
    {
      "cell_type": "code",
      "execution_count": 5,
      "metadata": {
        "id": "lhjw3juE1ZiY"
      },
      "outputs": [],
      "source": [
        "data[\"Close\"]=pd.to_numeric(data.Close,errors='coerce')\n",
        "data = data.dropna()\n",
        "trainData = data.iloc[:,4:5].values"
      ]
    },
    {
      "cell_type": "code",
      "execution_count": 6,
      "metadata": {
        "id": "GBWXb8Qb1ZiY",
        "colab": {
          "base_uri": "https://localhost:8080/"
        },
        "outputId": "65ecee7b-f6ea-4655-c23f-88988c59b833"
      },
      "outputs": [
        {
          "output_type": "stream",
          "name": "stdout",
          "text": [
            "<class 'pandas.core.frame.DataFrame'>\n",
            "Int64Index: 1149 entries, 0 to 1257\n",
            "Data columns (total 6 columns):\n",
            " #   Column  Non-Null Count  Dtype  \n",
            "---  ------  --------------  -----  \n",
            " 0   Date    1149 non-null   object \n",
            " 1   Open    1149 non-null   float64\n",
            " 2   High    1149 non-null   float64\n",
            " 3   Low     1149 non-null   float64\n",
            " 4   Close   1149 non-null   float64\n",
            " 5   Volume  1149 non-null   object \n",
            "dtypes: float64(4), object(2)\n",
            "memory usage: 62.8+ KB\n"
          ]
        }
      ],
      "source": [
        "data.info()"
      ]
    },
    {
      "cell_type": "code",
      "execution_count": 7,
      "metadata": {
        "id": "8NsdLhlD1ZiY",
        "colab": {
          "base_uri": "https://localhost:8080/"
        },
        "outputId": "42bd361d-89b2-4a1f-ae8f-448172d9b060"
      },
      "outputs": [
        {
          "output_type": "execute_result",
          "data": {
            "text/plain": [
              "(1149, 1)"
            ]
          },
          "metadata": {},
          "execution_count": 7
        }
      ],
      "source": [
        "sc = MinMaxScaler(feature_range=(0,1))\n",
        "trainData = sc.fit_transform(trainData)\n",
        "trainData.shape"
      ]
    },
    {
      "cell_type": "code",
      "execution_count": 8,
      "metadata": {
        "id": "x_wIYl681ZiZ"
      },
      "outputs": [],
      "source": [
        "X_train = []\n",
        "y_train = []\n",
        "\n",
        "for i in range (60,1149): #60 : timestep // 1149 : length of the data\n",
        "    X_train.append(trainData[i-60:i,0]) \n",
        "    y_train.append(trainData[i,0])\n",
        "\n",
        "X_train,y_train = np.array(X_train),np.array(y_train)"
      ]
    },
    {
      "cell_type": "code",
      "execution_count": 9,
      "metadata": {
        "id": "tFkfYIiK1ZiZ",
        "colab": {
          "base_uri": "https://localhost:8080/"
        },
        "outputId": "6f21d2ba-fbfe-45df-9867-001cd2ebbdcb"
      },
      "outputs": [
        {
          "output_type": "execute_result",
          "data": {
            "text/plain": [
              "(1089, 60, 1)"
            ]
          },
          "metadata": {},
          "execution_count": 9
        }
      ],
      "source": [
        "X_train = np.reshape(X_train,(X_train.shape[0],X_train.shape[1],1)) #adding the batch_size axis\n",
        "X_train.shape"
      ]
    },
    {
      "cell_type": "code",
      "execution_count": 10,
      "metadata": {
        "id": "t1YT3DqW1Zia"
      },
      "outputs": [],
      "source": [
        "model = Sequential()\n",
        "\n",
        "model.add(LSTM(units=100, return_sequences = True, input_shape =(X_train.shape[1],1)))\n",
        "model.add(Dropout(0.2))\n",
        "\n",
        "model.add(LSTM(units=100, return_sequences = True))\n",
        "model.add(Dropout(0.2))\n",
        "\n",
        "model.add(LSTM(units=100, return_sequences = True))\n",
        "model.add(Dropout(0.2))\n",
        "\n",
        "model.add(LSTM(units=100, return_sequences = False))\n",
        "model.add(Dropout(0.2))\n",
        "\n",
        "model.add(Dense(units =1))\n",
        "model.compile(optimizer='adam',loss=\"mean_squared_error\")"
      ]
    },
    {
      "cell_type": "code",
      "execution_count": 11,
      "metadata": {
        "id": "oSyNuO0s1Zia",
        "colab": {
          "base_uri": "https://localhost:8080/"
        },
        "outputId": "9aa87d25-17e8-440f-f2e6-a957a87bb4e1"
      },
      "outputs": [
        {
          "output_type": "stream",
          "name": "stdout",
          "text": [
            "Epoch 1/20\n",
            "35/35 - 15s - loss: 0.0341 - 15s/epoch - 417ms/step\n",
            "Epoch 2/20\n",
            "35/35 - 5s - loss: 0.0104 - 5s/epoch - 155ms/step\n",
            "Epoch 3/20\n",
            "35/35 - 6s - loss: 0.0111 - 6s/epoch - 174ms/step\n",
            "Epoch 4/20\n",
            "35/35 - 5s - loss: 0.0091 - 5s/epoch - 155ms/step\n",
            "Epoch 5/20\n",
            "35/35 - 6s - loss: 0.0104 - 6s/epoch - 174ms/step\n",
            "Epoch 6/20\n",
            "35/35 - 5s - loss: 0.0077 - 5s/epoch - 156ms/step\n",
            "Epoch 7/20\n",
            "35/35 - 6s - loss: 0.0084 - 6s/epoch - 174ms/step\n",
            "Epoch 8/20\n",
            "35/35 - 5s - loss: 0.0081 - 5s/epoch - 156ms/step\n",
            "Epoch 9/20\n",
            "35/35 - 6s - loss: 0.0067 - 6s/epoch - 174ms/step\n",
            "Epoch 10/20\n",
            "35/35 - 5s - loss: 0.0067 - 5s/epoch - 155ms/step\n",
            "Epoch 11/20\n",
            "35/35 - 6s - loss: 0.0066 - 6s/epoch - 173ms/step\n",
            "Epoch 12/20\n",
            "35/35 - 5s - loss: 0.0079 - 5s/epoch - 155ms/step\n",
            "Epoch 13/20\n",
            "35/35 - 6s - loss: 0.0073 - 6s/epoch - 174ms/step\n",
            "Epoch 14/20\n",
            "35/35 - 6s - loss: 0.0055 - 6s/epoch - 157ms/step\n",
            "Epoch 15/20\n",
            "35/35 - 6s - loss: 0.0056 - 6s/epoch - 174ms/step\n",
            "Epoch 16/20\n",
            "35/35 - 5s - loss: 0.0058 - 5s/epoch - 154ms/step\n",
            "Epoch 17/20\n",
            "35/35 - 6s - loss: 0.0062 - 6s/epoch - 175ms/step\n",
            "Epoch 18/20\n",
            "35/35 - 5s - loss: 0.0049 - 5s/epoch - 154ms/step\n",
            "Epoch 19/20\n",
            "35/35 - 6s - loss: 0.0058 - 6s/epoch - 175ms/step\n",
            "Epoch 20/20\n",
            "35/35 - 5s - loss: 0.0055 - 5s/epoch - 157ms/step\n"
          ]
        }
      ],
      "source": [
        "hist = model.fit(X_train, y_train, epochs = 20, batch_size = 32, verbose=2)"
      ]
    },
    {
      "cell_type": "code",
      "execution_count": 12,
      "metadata": {
        "id": "JczBU-oo1Zia",
        "colab": {
          "base_uri": "https://localhost:8080/",
          "height": 472
        },
        "outputId": "eda8f6b0-3c9b-4073-ebab-a80e34a911c9"
      },
      "outputs": [
        {
          "output_type": "display_data",
          "data": {
            "text/plain": [
              "<Figure size 640x480 with 1 Axes>"
            ],
            "image/png": "[encoded data removed]"
          },
          "metadata": {}
        }
      ],
      "source": [
        "plt.plot(hist.history['loss'])\n",
        "plt.title('Training model loss')\n",
        "plt.ylabel('loss')\n",
        "plt.xlabel('epoch')\n",
        "plt.legend(['train'], loc='upper left')\n",
        "plt.show()"
      ]
    },
    {
      "cell_type": "code",
      "execution_count": 13,
      "metadata": {
        "id": "ttFzVXFn1Zib",
        "colab": {
          "base_uri": "https://localhost:8080/"
        },
        "outputId": "d53dfc69-29bf-423e-ab1b-87e5fa26660c"
      },
      "outputs": [
        {
          "output_type": "execute_result",
          "data": {
            "text/plain": [
              "(192, 60, 1)"
            ]
          },
          "metadata": {},
          "execution_count": 13
        }
      ],
      "source": [
        "testData = pd.read_csv('Google_test_data.csv')\n",
        "testData[\"Close\"]=pd.to_numeric(testData.Close,errors='coerce')\n",
        "testData = testData.dropna()\n",
        "testData = testData.iloc[:,4:5]\n",
        "y_test = testData.iloc[60:,0:].values \n",
        "#input array for the model\n",
        "inputClosing = testData.iloc[:,0:].values \n",
        "inputClosing_scaled = sc.transform(inputClosing)\n",
        "inputClosing_scaled.shape\n",
        "X_test = []\n",
        "length = len(testData)\n",
        "timestep = 60\n",
        "for i in range(timestep,length):  \n",
        "    X_test.append(inputClosing_scaled[i-timestep:i,0])\n",
        "X_test = np.array(X_test)\n",
        "X_test = np.reshape(X_test,(X_test.shape[0],X_test.shape[1],1))\n",
        "X_test.shape"
      ]
    },
    {
      "cell_type": "code",
      "execution_count": 14,
      "metadata": {
        "id": "oQ6dEDMo1Zic",
        "colab": {
          "base_uri": "https://localhost:8080/"
        },
        "outputId": "21e1da12-65d5-47a5-9dc4-d31d1c8cb0a9"
      },
      "outputs": [
        {
          "output_type": "stream",
          "name": "stdout",
          "text": [
            "6/6 [==============================] - 2s 45ms/step\n"
          ]
        },
        {
          "output_type": "execute_result",
          "data": {
            "text/plain": [
              "array([[1.2189524],\n",
              "       [1.2211665],\n",
              "       [1.2299312],\n",
              "       [1.2442718],\n",
              "       [1.2584999],\n",
              "       [1.2644573],\n",
              "       [1.2596908],\n",
              "       [1.2477489],\n",
              "       [1.2365208],\n",
              "       [1.2298832],\n",
              "       [1.2222023],\n",
              "       [1.2119989],\n",
              "       [1.201992 ],\n",
              "       [1.1923487],\n",
              "       [1.1874491],\n",
              "       [1.1881025],\n",
              "       [1.1994958],\n",
              "       [1.2211443],\n",
              "       [1.2493503],\n",
              "       [1.2803506],\n",
              "       [1.3007168],\n",
              "       [1.3080226],\n",
              "       [1.2995278],\n",
              "       [1.2791951],\n",
              "       [1.2553396],\n",
              "       [1.2361869],\n",
              "       [1.2251954],\n",
              "       [1.2192255],\n",
              "       [1.2116491],\n",
              "       [1.2021538],\n",
              "       [1.191403 ],\n",
              "       [1.1789623],\n",
              "       [1.1614528],\n",
              "       [1.139224 ],\n",
              "       [1.1248317],\n",
              "       [1.1247469],\n",
              "       [1.1372774],\n",
              "       [1.1568811],\n",
              "       [1.1792026],\n",
              "       [1.1957047],\n",
              "       [1.2109668],\n",
              "       [1.2268466],\n",
              "       [1.2439967],\n",
              "       [1.26066  ],\n",
              "       [1.2739775],\n",
              "       [1.2802901],\n",
              "       [1.2771853],\n",
              "       [1.2712328],\n",
              "       [1.2674788],\n",
              "       [1.2691106],\n",
              "       [1.2770872],\n",
              "       [1.2850149],\n",
              "       [1.2897888],\n",
              "       [1.2903649],\n",
              "       [1.2901692],\n",
              "       [1.2878659],\n",
              "       [1.2818009],\n",
              "       [1.2770046],\n",
              "       [1.2803491],\n",
              "       [1.2917995],\n",
              "       [1.3114523],\n",
              "       [1.3377396],\n",
              "       [1.3611752],\n",
              "       [1.3734555],\n",
              "       [1.3724197],\n",
              "       [1.3610071],\n",
              "       [1.3484746],\n",
              "       [1.3400192],\n",
              "       [1.3373841],\n",
              "       [1.3383682],\n",
              "       [1.3415004],\n",
              "       [1.3445969],\n",
              "       [1.3437939],\n",
              "       [1.340625 ],\n",
              "       [1.3367451],\n",
              "       [1.3343307],\n",
              "       [1.3342806],\n",
              "       [1.3369149],\n",
              "       [1.3448088],\n",
              "       [1.3583055],\n",
              "       [1.3772279],\n",
              "       [1.3978206],\n",
              "       [1.4137942],\n",
              "       [1.4220912],\n",
              "       [1.4283824],\n",
              "       [1.4382632],\n",
              "       [1.4522278],\n",
              "       [1.4664918],\n",
              "       [1.4776119],\n",
              "       [1.483904 ],\n",
              "       [1.4878649],\n",
              "       [1.4950666],\n",
              "       [1.5075479],\n",
              "       [1.5189264],\n",
              "       [1.5232888],\n",
              "       [1.5182271],\n",
              "       [1.5038894],\n",
              "       [1.4833456],\n",
              "       [1.4620726],\n",
              "       [1.4478346],\n",
              "       [1.4441969],\n",
              "       [1.4508477],\n",
              "       [1.4656837],\n",
              "       [1.4830196],\n",
              "       [1.4977604],\n",
              "       [1.5062788],\n",
              "       [1.5090493],\n",
              "       [1.508183 ],\n",
              "       [1.5078633],\n",
              "       [1.5101773],\n",
              "       [1.5158807],\n",
              "       [1.5252357],\n",
              "       [1.5364207],\n",
              "       [1.5491946],\n",
              "       [1.5645467],\n",
              "       [1.5793047],\n",
              "       [1.592097 ],\n",
              "       [1.6031926],\n",
              "       [1.6147462],\n",
              "       [1.6091961],\n",
              "       [1.5807925],\n",
              "       [1.5353236],\n",
              "       [1.4878801],\n",
              "       [1.4499928],\n",
              "       [1.4243394],\n",
              "       [1.4093087],\n",
              "       [1.4019583],\n",
              "       [1.4001833],\n",
              "       [1.396813 ],\n",
              "       [1.387798 ],\n",
              "       [1.3813273],\n",
              "       [1.3839648],\n",
              "       [1.3933343],\n",
              "       [1.4016758],\n",
              "       [1.4068807],\n",
              "       [1.4091433],\n",
              "       [1.4076648],\n",
              "       [1.402045 ],\n",
              "       [1.3937925],\n",
              "       [1.3820848],\n",
              "       [1.3685751],\n",
              "       [1.3532807],\n",
              "       [1.3269366],\n",
              "       [1.2928611],\n",
              "       [1.2559694],\n",
              "       [1.2225252],\n",
              "       [1.2004693],\n",
              "       [1.1946194],\n",
              "       [1.2033434],\n",
              "       [1.2211728],\n",
              "       [1.243847 ],\n",
              "       [1.2663529],\n",
              "       [1.2861534],\n",
              "       [1.3033693],\n",
              "       [1.3174318],\n",
              "       [1.3292044],\n",
              "       [1.3403761],\n",
              "       [1.349872 ],\n",
              "       [1.351952 ],\n",
              "       [1.344463 ],\n",
              "       [1.3289787],\n",
              "       [1.3103257],\n",
              "       [1.2956094],\n",
              "       [1.2901902],\n",
              "       [1.2959678],\n",
              "       [1.3118399],\n",
              "       [1.3308986],\n",
              "       [1.3489157],\n",
              "       [1.3656412],\n",
              "       [1.3808844],\n",
              "       [1.3938626],\n",
              "       [1.4045556],\n",
              "       [1.4131256],\n",
              "       [1.4181929],\n",
              "       [1.4194659],\n",
              "       [1.4149492],\n",
              "       [1.406813 ],\n",
              "       [1.3989646],\n",
              "       [1.3922356],\n",
              "       [1.3860741],\n",
              "       [1.3997602],\n",
              "       [1.4342523],\n",
              "       [1.4783353],\n",
              "       [1.5186708],\n",
              "       [1.5458894],\n",
              "       [1.5551783],\n",
              "       [1.5418698],\n",
              "       [1.5142891],\n",
              "       [1.4827846],\n",
              "       [1.4602674],\n",
              "       [1.4485496],\n",
              "       [1.4436799]], dtype=float32)"
            ]
          },
          "metadata": {},
          "execution_count": 14
        }
      ],
      "source": [
        "y_pred = model.predict(X_test)\n",
        "y_pred"
      ]
    },
    {
      "cell_type": "code",
      "execution_count": 15,
      "metadata": {
        "id": "IU8hN2uf1Zic"
      },
      "outputs": [],
      "source": [
        "predicted_price = sc.inverse_transform(y_pred)"
      ]
    },
    {
      "cell_type": "code",
      "execution_count": 16,
      "metadata": {
        "id": "EfH23mJ71Zic",
        "colab": {
          "base_uri": "https://localhost:8080/",
          "height": 472
        },
        "outputId": "501d598b-f399-4093-b9df-b4cd2dd278d5"
      },
      "outputs": [
        {
          "output_type": "display_data",
          "data": {
            "text/plain": [
              "<Figure size 640x480 with 1 Axes>"
            ],
            "image/png": "[encoded data removed]"
          },
          "metadata": {}
        }
      ],
      "source": [
        "plt.plot(y_test, color = 'red', label = 'Actual Stock Price')\n",
        "plt.plot(predicted_price, color = 'green', label = 'Predicted Stock Price')\n",
        "plt.title('Google stock price prediction')\n",
        "plt.xlabel('Time')\n",
        "plt.ylabel('Stock Price')\n",
        "plt.legend()\n",
        "plt.show()"
      ]
    }
  ],
  "metadata": {
    "kernelspec": {
      "display_name": "Python 3",
      "language": "python",
      "name": "python3"
    },
    "language_info": {
      "codemirror_mode": {
        "name": "ipython",
        "version": 3
      },
      "file_extension": ".py",
      "mimetype": "text/x-python",
      "name": "python",
      "nbconvert_exporter": "python",
      "pygments_lexer": "ipython3",
      "version": "3.7.6"
    },
    "colab": {
      "provenance": []
    }
  },
  "nbformat": 4,
  "nbformat_minor": 0
}